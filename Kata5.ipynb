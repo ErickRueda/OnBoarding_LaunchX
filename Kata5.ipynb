{
 "cells": [
  {
   "cell_type": "markdown",
   "metadata": {},
   "source": [
    "## calcular la distancia entre dos planetas."
   ]
  },
  {
   "cell_type": "code",
   "execution_count": 1,
   "metadata": {},
   "outputs": [],
   "source": [
    "tierra = 149597870\n",
    "jupiter = 778547200"
   ]
  },
  {
   "cell_type": "code",
   "execution_count": 19,
   "metadata": {},
   "outputs": [
    {
     "name": "stdout",
     "output_type": "stream",
     "text": [
      "Distancia absoluta 628949330\n",
      "390577534 km\n"
     ]
    }
   ],
   "source": [
    "distancia = tierra - jupiter \n",
    "print ('Distancia absoluta', abs(distancia))\n",
    "print (round(abs(distancia*0.621)),'km')"
   ]
  },
  {
   "cell_type": "markdown",
   "metadata": {},
   "source": [
    "## convierte cadenas en números y usa valores absolutos\n"
   ]
  },
  {
   "cell_type": "code",
   "execution_count": 29,
   "metadata": {},
   "outputs": [
    {
     "name": "stdout",
     "output_type": "stream",
     "text": [
      "valores introducidos Marte: 227900000, Jupiter: 778600000\n"
     ]
    }
   ],
   "source": [
    "marte = input (\"Ingrese la distancia de marte\")\n",
    "jupiter = input (\"Ingrese la distancia de jupiter\")\n",
    "\n",
    "print (f'valores introducidos Marte: {marte}, Jupiter: {jupiter}')"
   ]
  },
  {
   "cell_type": "markdown",
   "metadata": {},
   "source": [
    "## # Convierte las cadenas de ambos planetas a números enteros"
   ]
  },
  {
   "cell_type": "code",
   "execution_count": 30,
   "metadata": {},
   "outputs": [],
   "source": [
    "marte = int(marte)\n",
    "jupiter = int(jupiter)"
   ]
  },
  {
   "cell_type": "markdown",
   "metadata": {},
   "source": [
    "# Realizar el cálculo y determinar el valor absoluto y Convertir de KM a Millas\n"
   ]
  },
  {
   "cell_type": "code",
   "execution_count": 35,
   "metadata": {},
   "outputs": [
    {
     "name": "stdout",
     "output_type": "stream",
     "text": [
      "distancia en km: 550700000\n",
      " Distancia en millas: 341984700.0\n"
     ]
    }
   ],
   "source": [
    "distancia_km = marte - jupiter\n",
    "distancia_km = abs(distancia_km)\n",
    "distancia_millas = distancia_km * 0.621\n",
    "\n",
    "print (f'distancia en km: {distancia_km}\\n Distancia en millas: {abs(distancia_millas)}')"
   ]
  }
 ],
 "metadata": {
  "interpreter": {
   "hash": "aee8b7b246df8f9039afb4144a1f6fd8d2ca17a180786b69acc140d282b71a49"
  },
  "kernelspec": {
   "display_name": "Python 3.10.2 64-bit",
   "language": "python",
   "name": "python3"
  },
  "language_info": {
   "codemirror_mode": {
    "name": "ipython",
    "version": 3
   },
   "file_extension": ".py",
   "mimetype": "text/x-python",
   "name": "python",
   "nbconvert_exporter": "python",
   "pygments_lexer": "ipython3",
   "version": "3.10.2"
  },
  "orig_nbformat": 4
 },
 "nbformat": 4,
 "nbformat_minor": 2
}
