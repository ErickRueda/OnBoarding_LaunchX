{
 "cells": [
  {
   "cell_type": "markdown",
   "metadata": {},
   "source": [
    "## Advertencia de asteroide\n",
    "Programa que avisa sobre un asteroide que se acerca, y viaja a una velocidad de 49 km/s."
   ]
  },
  {
   "cell_type": "code",
   "execution_count": 12,
   "metadata": {},
   "outputs": [
    {
     "name": "stdout",
     "output_type": "stream",
     "text": [
      "No hay de que preocuparse\n"
     ]
    }
   ],
   "source": [
    "Velocidad = 40\n",
    "if Velocidad >= 49:\n",
    "    print ('Advertencia, se acerca un asteroide')\n",
    "else: print ('No hay de que preocuparse')"
   ]
  },
  {
   "cell_type": "markdown",
   "metadata": {},
   "source": [
    "## Rayo de luz\n",
    "Alerta a las personas de todo el mundo que deben buscar un asteroide en el cielo"
   ]
  },
  {
   "cell_type": "code",
   "execution_count": 1,
   "metadata": {},
   "outputs": [
    {
     "name": "stdout",
     "output_type": "stream",
     "text": [
      "Posible avistamiento en el cielo, un asteroide se dirige a 19 /kms\n"
     ]
    }
   ],
   "source": [
    "Velocidad = 19\n",
    "if Velocidad >= 20:\n",
    "        print ('Mira hacia arriba, encontraras un destello ¡Es un asteroide!')\n",
    "elif Velocidad == 19:\n",
    "        print ('Posible avistamiento en el cielo, un asteroide se dirige a',Velocidad,'/kms')\n",
    "else: print ('Sin novedad')"
   ]
  },
  {
   "cell_type": "markdown",
   "metadata": {},
   "source": [
    "## Sistema completo de monitoreo de asteroides\n",
    "Emite alertas conforme al tamaño y velocidad de distintos asteroides"
   ]
  },
  {
   "cell_type": "code",
   "execution_count": 26,
   "metadata": {},
   "outputs": [
    {
     "name": "stdout",
     "output_type": "stream",
     "text": [
      "Posible avistamiento en el cielo, un asteroide se dirige a 19 /kms\n"
     ]
    }
   ],
   "source": [
    "Velocidad = 19\n",
    "Tamaño = 30\n",
    "if Tamaño >= 1000:\n",
    "    print ('El fin del mundo ya esta aqui')\n",
    "elif Velocidad >= 25 or Tamaño >= 35:\n",
    "    print ('Advertencia un asteroide de',Tamaño, 'metros de longitud se dirige a',Velocidad,'/kms')\n",
    "elif Velocidad == 19:\n",
    "        print ('Posible avistamiento en el cielo, un asteroide se dirige a',Velocidad,'/kms')\n",
    "else: print ('Sin novedad')\n"
   ]
  }
 ],
 "metadata": {
  "interpreter": {
   "hash": "aee8b7b246df8f9039afb4144a1f6fd8d2ca17a180786b69acc140d282b71a49"
  },
  "kernelspec": {
   "display_name": "Python 3.10.2 64-bit",
   "language": "python",
   "name": "python3"
  },
  "language_info": {
   "codemirror_mode": {
    "name": "ipython",
    "version": 3
   },
   "file_extension": ".py",
   "mimetype": "text/x-python",
   "name": "python",
   "nbconvert_exporter": "python",
   "pygments_lexer": "ipython3",
   "version": "3.10.2"
  },
  "orig_nbformat": 4
 },
 "nbformat": 4,
 "nbformat_minor": 2
}
